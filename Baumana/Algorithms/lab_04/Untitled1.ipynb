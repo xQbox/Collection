{
 "cells": [
  {
   "cell_type": "code",
   "execution_count": 8,
   "id": "5bb1ae36-5e61-48f9-a827-df14d90744de",
   "metadata": {},
   "outputs": [
    {
     "name": "stdout",
     "output_type": "stream",
     "text": [
      "[[-8.97693094e+00]\n",
      " [ 1.49372136e+01]\n",
      " [-5.90793340e+00]\n",
      " [ 9.95651526e-01]\n",
      " [-7.86431275e-02]\n",
      " [ 3.33110985e-03]\n",
      " [-9.67573337e-05]]\n",
      "\n"
     ]
    }
   ],
   "source": [
    "from numpy import zeros, array, linspace, dot, linalg\n",
    "from matplotlib.pyplot import plot, axes, xlim, ylim\n",
    "import pandas as pd\n",
    "from path import Path\n",
    "\n",
    "def Integration(x, u, p) :\n",
    "    N = len(x) - 1\n",
    "    result = 0.\n",
    "    for n in range(1, N + 1) :\n",
    "        result += (u[n] + u[n-1])/2*(x[n] - x[n-1]) * p[n]\n",
    "    return result\n",
    "\n",
    "def phi(x,k) :\n",
    "    return x**k\n",
    "\n",
    "def Approximation(x, u, phi, K, a, p) :\n",
    "    N = len(x)-1; A = zeros((K + 1,K + 1)); B = zeros((K + 1,1))\n",
    "    for m in range(K+1) :\n",
    "        for k in range(K+1) :\n",
    "            A[m,k] = Integration(x, phi(x, m) * phi(x, k), p)\n",
    "        B[m,0] = Integration(x, phi(x, m) * u, p)\n",
    "    C = linalg.solve(A,B)\n",
    "    result = 0.\n",
    "    for k in range(K + 1) :\n",
    "        result = result + C[k, 0] * phi(a, k)\n",
    "    return(result)\n",
    "\n",
    "def Multidimensional_approximation(x, u, z, p, phi, K, a):\n",
    "    N = len(x) - 1; A = zeros((K + 1, K + 1)); B = zeros((K + 1, 1))\n",
    "  \n",
    "    for m in range(K + 1):\n",
    "        for k in range(K + 1):\n",
    "            A[m, k] = Integration(x, phi(x, m) * phi(x, k), p)\n",
    "        B[m, 0] = Integration(x, phi(x, m) * u, p)\n",
    "    C = linalg.solve(A, B)   \n",
    "    \n",
    "    print(C, end=\"\\n\\n\")\n",
    "    return C\n",
    "    \n",
    "\n",
    "path = Path(\"data2.csv\").absolute()\n",
    "df = pd.read_csv(filepath_or_buffer=path, sep=' ')\n",
    "x_values = df['x']\n",
    "y_values = df['y']\n",
    "z_values = df['z']\n",
    "p_values = df['p']\n",
    "\n",
    "# x = array([1, 2, 3, 5, 6, 7, 8, 9])\n",
    "# u = array([1, 4, 4, 2, 3, 3, 4, 2])\n",
    "\n",
    "# plot(x,u,'go')\n",
    "\n",
    "# a = min(x); b = max(x)\n",
    "# x_0 = (a + b)/2; x = (x - x_0)/((b - a)/2)\n",
    "\n",
    "K = 6\n",
    "\n",
    "x_approx = linspace(-1,1,100)\n",
    "\n",
    "u_approx = Multidimensional_approximation(x_values, y_values, z_values, p_values, phi, K, x_approx)\n",
    "\n",
    "# x_approx = x_approx*((b - a)/2) + (a + b)/2\n",
    "# plot(x_approx,u_approx,'-r')\n",
    "# xlim([0,10]); ylim([0,6]); "
   ]
  },
  {
   "cell_type": "code",
   "execution_count": null,
   "id": "68267b5d-c4f2-4094-977c-6a3edf9688e1",
   "metadata": {},
   "outputs": [],
   "source": []
  },
  {
   "cell_type": "code",
   "execution_count": null,
   "id": "ae002e1c-a535-4d5d-9457-6c7e7e27c8ae",
   "metadata": {},
   "outputs": [],
   "source": []
  }
 ],
 "metadata": {
  "kernelspec": {
   "display_name": "Python 3 (ipykernel)",
   "language": "python",
   "name": "python3"
  },
  "language_info": {
   "codemirror_mode": {
    "name": "ipython",
    "version": 3
   },
   "file_extension": ".py",
   "mimetype": "text/x-python",
   "name": "python",
   "nbconvert_exporter": "python",
   "pygments_lexer": "ipython3",
   "version": "3.12.3"
  }
 },
 "nbformat": 4,
 "nbformat_minor": 5
}
