{
 "cells": [
  {
   "cell_type": "code",
   "execution_count": 3,
   "id": "946d114e-fc4c-4bfa-a053-a0474748c654",
   "metadata": {},
   "outputs": [],
   "source": [
    "import matplotlib.pyplot as plt\n",
    "import numpy as np\n",
    "import pandas as pd\n",
    "import random as rn\n",
    "from pathlib import Path\n",
    "# import os"
   ]
  },
  {
   "cell_type": "code",
   "execution_count": 4,
   "id": "83152a1a-d41e-4b8d-8fbc-038bcdf6cb1e",
   "metadata": {},
   "outputs": [
    {
     "name": "stdout",
     "output_type": "stream",
     "text": [
      "E:\\Baumana\\Baumana\\SEM_4\\Algorithms\\Labs\\lab_04\\venv\\data1.csv\n"
     ]
    }
   ],
   "source": [
    "path = Path(\"data1.csv\").absolute()\n",
    "print(path)"
   ]
  },
  {
   "cell_type": "code",
   "execution_count": 5,
   "id": "1e4fabb8-5482-4524-a52d-849ddbbf0e12",
   "metadata": {
    "scrolled": true
   },
   "outputs": [],
   "source": [
    "df = pd.read_csv(filepath_or_buffer=path, sep=' ')\n",
    "headers = df.columns.to_list()\n",
    "x_values = df['x']\n",
    "y_values = df['y']\n",
    "p_values = df['p']"
   ]
  },
  {
   "cell_type": "code",
   "execution_count": 6,
   "id": "c7fdf4ca-1a7a-4bc4-8c34-7dcd72b96e63",
   "metadata": {},
   "outputs": [],
   "source": [
    "def phi(x, k) -> float:\n",
    "    return x ** k"
   ]
  },
  {
   "cell_type": "code",
   "execution_count": 7,
   "id": "88e1b962-b232-4c4b-9b89-453415a6991a",
   "metadata": {},
   "outputs": [],
   "source": [
    "def Integration(x, u, p) :\n",
    "    N = len(x) - 1\n",
    "    result = 0.\n",
    "    for n in range(1, N + 1):\n",
    "        result = result + (u[n] + u[n-1])/2 * (x[n] - x[n-1]) * p[n]\n",
    "    return result"
   ]
  },
  {
   "cell_type": "code",
   "execution_count": 8,
   "id": "9b842357-67e8-4055-a77e-876686f24f12",
   "metadata": {},
   "outputs": [],
   "source": [
    "def Approximation(x : list, u : list, p : list, K : int, a : list, phi):       \n",
    "    A = np.zeros((K + 1, K + 1)); B = np.zeros((K + 1, 1))\n",
    "    for m in range(K + 1):\n",
    "        for k in range(K + 1):\n",
    "            A[m, k] = Integration(x, phi(x, m) * phi(x, k), p)  \n",
    "        B[m, 0] = Integration(x, phi(x, m) * u, p)\n",
    "    C = np.linalg.solve(A, B)\n",
    "    result = 0.\n",
    "    for i in range(K + 1):\n",
    "        result += C[i,0] * phi(a, i)\n",
    "    return (result)"
   ]
  },
  {
   "cell_type": "code",
   "execution_count": 9,
   "id": "0686a1e3-1226-4d61-8d5d-da54efff17a8",
   "metadata": {},
   "outputs": [
    {
     "data": {
      "image/png": "[encoded data removed]",
      "text/plain": [
       "<Figure size 640x480 with 1 Axes>"
      ]
     },
     "metadata": {},
     "output_type": "display_data"
    }
   ],
   "source": [
    "K = 6\n",
    "if K < 5: \n",
    "    x_approx = np.linspace(min(x_values), max(x_values), 100)\n",
    "    u = Approximation(x_values, y_values, p_values, K, x_approx) \n",
    "    plt.axes().set_aspect(1)\n",
    "    plt.plot(x_values, y_values, 'go')\n",
    "    plt.plot(x_approx, u, '-r')\n",
    "\n",
    "else :\n",
    "    x_approx = np.linspace(-1, 1, 100)\n",
    "    a = min(x_values) ; b = max(x_values)\n",
    "    x_0 = (a + b) / 2\n",
    "    x_values = (x_values - x_0) / ((b - a) / 2)\n",
    "    u = Approximation(x_values, y_values, p_values, K, x_approx, phi) \n",
    "    x_values = x_values * ((b - a) / 2) + x_0\n",
    "    x_approx = x_approx * ((b - a) / 2) + x_0    \n",
    "    plt.axes().set_aspect(1)\n",
    "    # plt.xlim([0,10])\n",
    "    # plt.ylim([0,10])\n",
    "    plt.plot(x_approx, u, '-r')\n",
    "    plt.plot(x_values, y_values, 'go')\n"
   ]
  },
  {
   "cell_type": "code",
   "execution_count": 10,
   "id": "411ccda7-bab7-4076-ac82-7b3640fa67ca",
   "metadata": {},
   "outputs": [
    {
     "data": {
      "text/plain": [
       "[<matplotlib.lines.Line2D at 0x19e0a78aa80>]"
      ]
     },
     "execution_count": 10,
     "metadata": {},
     "output_type": "execute_result"
    },
    {
     "data": {
      "image/png": "[encoded data removed]",
      "text/plain": [
       "<Figure size 640x480 with 1 Axes>"
      ]
     },
     "metadata": {},
     "output_type": "display_data"
    }
   ],
   "source": [
    "K = 1\n",
    "x_approx = np.linspace(-1, 1, 100)\n",
    "a = min(x_values) ; b = max(x_values)\n",
    "x_0 = (a + b) / 2\n",
    "x_values = (x_values - x_0) / ((b - a) / 2)\n",
    "u = Approximation(x_values, y_values, p_values, K, x_approx, phi) \n",
    "x_values = x_values * ((b - a) / 2) + x_0\n",
    "x_approx = x_approx * ((b - a) / 2) + x_0    \n",
    "plt.axes().set_aspect(1)\n",
    "plt.plot(x_approx, u, '-r')\n",
    "plt.plot(x_values, y_values, 'go')\n",
    "\n",
    "\n"
   ]
  },
  {
   "cell_type": "code",
   "execution_count": 11,
   "id": "c2ca953b-ea0b-4fae-b5f7-c2ac81aafa1f",
   "metadata": {},
   "outputs": [
    {
     "data": {
      "text/plain": [
       "[<matplotlib.lines.Line2D at 0x19e0a7dfe00>]"
      ]
     },
     "execution_count": 11,
     "metadata": {},
     "output_type": "execute_result"
    },
    {
     "data": {
      "image/png": "[encoded data removed]",
      "text/plain": [
       "<Figure size 640x480 with 1 Axes>"
      ]
     },
     "metadata": {},
     "output_type": "display_data"
    }
   ],
   "source": [
    "K = 1\n",
    "p_values = p_values + rn.randint(5,10)\n",
    "x_approx = np.linspace(-1, 1, 100)\n",
    "a = min(x_values) ; b = max(x_values)\n",
    "x_0 = (a + b) / 2\n",
    "x_values = (x_values - x_0) / ((b - a) / 2)\n",
    "u = Approximation(x_values, y_values, p_values, K, x_approx, phi) \n",
    "x_values = x_values * ((b - a) / 2) + x_0\n",
    "x_approx = x_approx * ((b - a) / 2) + x_0    \n",
    "plt.axes().set_aspect(1)\n",
    "plt.plot(x_approx, u, '-r')\n",
    "plt.plot(x_values, y_values, 'go')"
   ]
  },
  {
   "cell_type": "code",
   "execution_count": 12,
   "id": "93309a39-2c93-4b9d-af5b-6cdf87054c7a",
   "metadata": {},
   "outputs": [
    {
     "data": {
      "image/png": "[encoded data removed]",
      "text/plain": [
       "<Figure size 640x480 with 1 Axes>"
      ]
     },
     "metadata": {},
     "output_type": "display_data"
    }
   ],
   "source": [
    "from numpy import zeros, array, linspace, dot, linalg\n",
    "from matplotlib.pyplot import plot, axes, xlim, ylim\n",
    "def Integration(x,u) :\n",
    "    N = len(x) - 1\n",
    "    result = 0.\n",
    "    for n in range(1,N+1) :\n",
    "        result += (u[n] + u[n-1])/2*(x[n] - x[n-1])\n",
    "    return result\n",
    "\n",
    "def phi(x,k) :\n",
    "    return x**k\n",
    "\n",
    "def Approximation(x,u,phi,K,a) :\n",
    "    N = len(x)-1; A = zeros((K + 1,K + 1)); B = zeros((K + 1,1))\n",
    "    for m in range(K+1) :\n",
    "        for k in range(K+1) :\n",
    "            A[m,k] = Integration(x, phi(x, m) * phi(x, k))\n",
    "        B[m,0] = Integration(x, phi(x, m) * u)\n",
    "    C = linalg.solve(A,B)\n",
    "    result = 0.\n",
    "    for k in range(K + 1) :\n",
    "        result = result + C[k, 0] * phi(a, k)\n",
    "    return(result)\n",
    "\n",
    "x = array([1, 2, 3, 5, 6, 7, 8, 9])\n",
    "u = array([1, 4, 4, 2, 3, 3, 4, 2])\n",
    "\n",
    "plot(x,u,'go')\n",
    "\n",
    "a = min(x); b = max(x)\n",
    "x_0 = (a + b)/2; x = (x - x_0)/((b - a)/2)\n",
    "\n",
    "K = 6\n",
    "\n",
    "x_approx = linspace(-1,1,100)\n",
    "u_approx = Approximation(x,u,phi,K,x_approx)\n",
    "\n",
    "x_approx = x_approx*((b - a)/2) + (a + b)/2\n",
    "plot(x_approx,u_approx,'-r')\n",
    "xlim([0,10]); ylim([0,6]); "
   ]
  },
  {
   "cell_type": "code",
   "execution_count": null,
   "id": "cef19b9f-0af7-4861-bbb8-b89e3fb06642",
   "metadata": {},
   "outputs": [],
   "source": []
  },
  {
   "cell_type": "code",
   "execution_count": null,
   "id": "c7b2a79d-af61-4996-873f-537190b2665e",
   "metadata": {},
   "outputs": [],
   "source": []
  },
  {
   "cell_type": "code",
   "execution_count": null,
   "id": "4273a777-508c-4941-9206-00560a37ceb2",
   "metadata": {},
   "outputs": [],
   "source": []
  }
 ],
 "metadata": {
  "kernelspec": {
   "display_name": "Python 3 (ipykernel)",
   "language": "python",
   "name": "python3"
  },
  "language_info": {
   "codemirror_mode": {
    "name": "ipython",
    "version": 3
   },
   "file_extension": ".py",
   "mimetype": "text/x-python",
   "name": "python",
   "nbconvert_exporter": "python",
   "pygments_lexer": "ipython3",
   "version": "3.12.4"
  }
 },
 "nbformat": 4,
 "nbformat_minor": 5
}
