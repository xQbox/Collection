{
 "cells": [
  {
   "cell_type": "code",
   "execution_count": 160,
   "id": "946d114e-fc4c-4bfa-a053-a0474748c654",
   "metadata": {},
   "outputs": [],
   "source": [
    "import matplotlib.pyplot as plt\n",
    "import numpy as np\n",
    "import pandas as pd\n",
    "from pathlib import Path\n",
    "# import os"
   ]
  },
  {
   "cell_type": "code",
   "execution_count": 161,
   "id": "83152a1a-d41e-4b8d-8fbc-038bcdf6cb1e",
   "metadata": {},
   "outputs": [
    {
     "name": "stdout",
     "output_type": "stream",
     "text": [
      "C:\\Users\\avrod\\Baumana\\SEM_4\\Algorithms\\Labs\\lab_04\\venv\\data.csv\n"
     ]
    }
   ],
   "source": [
    "path = Path(\"data.csv\").absolute()\n",
    "print(path)"
   ]
  },
  {
   "cell_type": "code",
   "execution_count": 162,
   "id": "1e4fabb8-5482-4524-a52d-849ddbbf0e12",
   "metadata": {
    "scrolled": true
   },
   "outputs": [],
   "source": [
    "df = pd.read_csv(filepath_or_buffer=path, sep=' ')\n",
    "headers = df.columns.to_list()\n",
    "x_values = df['x']\n",
    "y_values = df['y']\n",
    "p_values = df['p']"
   ]
  },
  {
   "cell_type": "code",
   "execution_count": 163,
   "id": "c7fdf4ca-1a7a-4bc4-8c34-7dcd72b96e63",
   "metadata": {},
   "outputs": [],
   "source": [
    "def phi(x, k) -> float:\n",
    "    return x ** k"
   ]
  },
  {
   "cell_type": "code",
   "execution_count": 164,
   "id": "88e1b962-b232-4c4b-9b89-453415a6991a",
   "metadata": {},
   "outputs": [
    {
     "name": "stdin",
     "output_type": "stream",
     "text": [
      " 1\n"
     ]
    }
   ],
   "source": [
    "def Integration(x : list, u : list) -> float:\n",
    "    N = len(x) - 1\n",
    "    result = 0.0\n",
    "    for i in range(1, N):\n",
    "        for k in range(1, N):\n",
    "            h = x[i] - x[i - 1] \n",
    "            result += u[i] - u[i - 1] / 2 * h \n",
    "    return result"
   ]
  },
  {
   "cell_type": "code",
   "execution_count": 145,
   "id": "9b842357-67e8-4055-a77e-876686f24f12",
   "metadata": {},
   "outputs": [],
   "source": [
    "def Approximation(x : list, u : list, K : int, a : list) -> float :       \n",
    "    A = np.zeros((K + 1, K + 1)); B = np.zeros((K + 1, 1))\n",
    "    for m in range(K + 1):\n",
    "        for k in range(K + 1):\n",
    "            A[m, k] = Integration(x, phi(x, m) * phi(x, k))\n",
    "        B[m, 0] = Integration(x, phi(x, m) * u)\n",
    "    C = np.linalg.solve(A, B)\n",
    "    result = 0.0\n",
    "    for i in range(K + 1):\n",
    "        result += C[i,0] * phi(a, i)\n",
    "    return result"
   ]
  },
  {
   "cell_type": "code",
   "execution_count": 159,
   "id": "0686a1e3-1226-4d61-8d5d-da54efff17a8",
   "metadata": {},
   "outputs": [
    {
     "data": {
      "text/plain": [
       "[<matplotlib.lines.Line2D at 0x2446f7935c0>]"
      ]
     },
     "execution_count": 159,
     "metadata": {},
     "output_type": "execute_result"
    },
    {
     "data": {
      "image/png": "[encoded data removed]",
      "text/plain": [
       "<Figure size 640x480 with 1 Axes>"
      ]
     },
     "metadata": {},
     "output_type": "display_data"
    }
   ],
   "source": [
    "# K = int(input())\n",
    "K = 3\n",
    "x_approx = np.linspace(0,9,100)\n",
    "u = Approximation(x_values, y_values, K, x_approx) \n",
    "\n",
    "# plt.xlim([0,10]);\n",
    "# plt.ylim([0,10]);\n",
    "# plt.axes().set_aspect(2)\n",
    "plt.plot(x_values, y_values, 'go')\n",
    "plt.plot(x_approx, u, '-r')\n",
    "# plt.show()"
   ]
  },
  {
   "cell_type": "code",
   "execution_count": null,
   "id": "411ccda7-bab7-4076-ac82-7b3640fa67ca",
   "metadata": {},
   "outputs": [],
   "source": []
  }
 ],
 "metadata": {
  "kernelspec": {
   "display_name": "Python 3 (ipykernel)",
   "language": "python",
   "name": "python3"
  },
  "language_info": {
   "codemirror_mode": {
    "name": "ipython",
    "version": 3
   },
   "file_extension": ".py",
   "mimetype": "text/x-python",
   "name": "python",
   "nbconvert_exporter": "python",
   "pygments_lexer": "ipython3",
   "version": "3.12.3"
  }
 },
 "nbformat": 4,
 "nbformat_minor": 5
}
